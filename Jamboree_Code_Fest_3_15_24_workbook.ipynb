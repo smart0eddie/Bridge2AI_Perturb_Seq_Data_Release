{
 "cells": [
  {
   "cell_type": "markdown",
   "metadata": {},
   "source": [
    "### Imports"
   ]
  },
  {
   "cell_type": "code",
   "execution_count": 34,
   "metadata": {},
   "outputs": [],
   "source": [
    "import anndata as ad\n",
    "import scanpy as sc\n",
    "import pandas as pd\n",
    "import matplotlib.pyplot as plt\n",
    "import networkx as nx\n",
    "from umap import UMAP\n",
    "import numpy as np\n",
    "import warnings\n",
    "warnings.filterwarnings(\"ignore\") # Some log2(0) in the DE analysis raises runtime errors, but we supress because it just means its not significant\n",
    "\n",
    "# test "
   ]
  },
  {
   "cell_type": "markdown",
   "metadata": {},
   "source": [
    "### Reading in Data"
   ]
  },
  {
   "cell_type": "code",
   "execution_count": 35,
   "metadata": {},
   "outputs": [
    {
     "name": "stdout",
     "output_type": "stream",
     "text": [
      "CPU times: user 1.65 s, sys: 2.64 s, total: 4.28 s\n",
      "Wall time: 9.63 s\n"
     ]
    }
   ],
   "source": [
    "%%time\n",
    "#Change this to the appropriate data path\n",
    "data_path = './KOLF_Chroma_mixscape_output_x_pert.h5ad'\n",
    "adata = ad.read_h5ad(data_path) #Note that the .X is already set to the X_pert layer if you are following the single cell best practices guide"
   ]
  },
  {
   "cell_type": "markdown",
   "metadata": {},
   "source": [
    "### Visualizing perturbation similarities through correlation analysis\n",
    "1. The data provided to you has been filtered through the entire [single cell best practices](https://www.sc-best-practices.org/conditions/perturbation_modeling.html#analysing-single-pooled-crispr-screens) pipeline as described in the earlier talk (link).\n",
    "2. Download the data (link) and to read the .h5ad into Python. Read up on the data structure of [AnnData objects](https://anndata.readthedocs.io/en/latest/) and explore the .obs/.var of the downloaded data. The .X is the X_pert layer computed by [pertpy](https://pertpy.readthedocs.io/en/latest/tutorials/notebooks/mixscape.html), and is filtered down to top 6000 highly variable genes.\n",
    "3. Compute a mean gene expression vector for each perturbation.\n",
    "4. Compute the pairwise Pearson correlation matrix between all perturbations.\n",
    "5. Read on generally what [UMAP](https://umap-learn.readthedocs.io/en/latest/) does. Use the correlation matrix as a precomputed feature matrix as input to UMAP to get a 2-dimensional embedding of each perturbation. 6. Use the nearest n=3 neighbors with spread = 1.0 to compute the UMAP.\n",
    "7. Use [networkx](https://networkx.org/documentation/stable/tutorial.html) to plot each perturbation as a node, using the UMAP embeddings as the X/Y position of each node. Draw edges between each node and the top 5 person correlates.\n",
    "8. What perturbations cluster together in the network? Do these have known biological relationships? How does the clustering change as a function of changing the number of UMAP neighbors?"
   ]
  },
  {
   "cell_type": "code",
   "execution_count": null,
   "metadata": {},
   "outputs": [],
   "source": [
    "%%time\n",
    "def create_perturbation_network(adata, target_genes_category='perturbation_target_genes'):\n",
    "    # Filter cells with mixscape_class_global as 'KO' which correspond to perturbed cells\n",
    "    # Note that \"KO\" actually represents a Knock-Down in this application as CRISPRi is used\n",
    "    \n",
    "    # Get the list of perturbations\n",
    "    \n",
    "    \n",
    "    # Compute average gene expression vector for all cells with each perturbation\n",
    "\n",
    "\n",
    "    # Create DataFrame for the expression data\n",
    "    \n",
    "\n",
    "    # Compute pairwise Pearson correlation matrix between all perturbation average gene expression vectors\n",
    "    \n",
    "\n",
    "    # Convert correlation to distance; want a small distance between high correlates\n",
    "    \n",
    "\n",
    "    # Compute the 2D UMAP embedding for each perturbation, using the correlation vector as the feature vector for each perturbation\n",
    "    \n",
    "\n",
    "    # Store 2D embeddings as positions in a dictionary for NetworkX Visualization\n",
    "    \n",
    "\n",
    "    # Initialize the networkx graph, where nodes are each perturbation\n",
    "\n",
    "\n",
    "    # Add nodes and edges, positioning nodes based on the UMAP, and draw edges between each perturbation and the top 5 pearson correlates\n",
    "\n",
    "\n",
    "    # Visualize the graph\n",
    "    \n",
    "    print(\"Done\")\n",
    "\n",
    "create_perturbation_network(adata)"
   ]
  },
  {
   "cell_type": "markdown",
   "metadata": {},
   "source": [
    "### Computing Differentially Expressed Genes\n",
    "\n",
    "1. For each perturbation, compute the number of differentialy expressed genes relative to NTCs. What is an appropriate DE test to use (e.g. parametric or non-parametric?) What are the FDR and Log Folders Change cutoffs chosen? Justify the selection\n",
    "2. Investigate the DEGs for a perturbation of interest. Is there any interesting biological relationship between them?\n",
    "3. Can you leverage parallel computing to significantly speed up the differential expression analysis?"
   ]
  },
  {
   "cell_type": "code",
   "execution_count": null,
   "metadata": {},
   "outputs": [],
   "source": [
    "%%time\n",
    "def create_differential_gene_expression_plot(adata, pvalue_threshold=-np.log10(0.05)):\n",
    "\n",
    "    # Isolate only cells identified as having a mixscape_class_global of \"KO\" or \"NT\" corresponding to perturbed or non targeting controls\n",
    "    # Note that \"KO\" actually represents a Knock-Down in this application as CRISPRi is used\n",
    "    adata_ko = adata[adata.obs['mixscape_class_global'].isin(['NT',\"KO\"])].copy()\n",
    "\n",
    "    # Extract a list of each perturbed gene\n",
    "    genes_of_interest = [] # Adjust this accordingly\n",
    "\n",
    "    # Initialize datastructure to store the number of significiantly upregulated / downregulated genes\n",
    "    \n",
    "\n",
    "    for gene_of_interest in genes_of_interest: # TODO: Speed this up (e.g. parallel processing)\n",
    "        # Isolate cells that are either NTCs or having a perturbation corresponding to the gene of interest\n",
    "        \n",
    "\n",
    "        # Step 2: Differential Expression Analysis using sc.tl.rank_genes_groups (what is an appropriate DE test to use? why?)\n",
    "        \n",
    "\n",
    "        # Step 3: Extract the results from the DE analysis\n",
    "        \n",
    "\n",
    "       # Step 4: Count the number of significantly upregulated and downregulated genes\n",
    "        \n",
    "\n",
    "    # Plot the Number of significantly upregulated and downregulated genes per perturbation\n",
    "   \n",
    "    print(\"Done\")\n",
    "\n",
    "create_differential_gene_expression_plot(adata)"
   ]
  }
 ],
 "metadata": {
  "kernelspec": {
   "display_name": "Python 3 (ipykernel)",
   "language": "python",
   "name": "python3"
  },
  "language_info": {
   "codemirror_mode": {
    "name": "ipython",
    "version": 3
   },
   "file_extension": ".py",
   "mimetype": "text/x-python",
   "name": "python",
   "nbconvert_exporter": "python",
   "pygments_lexer": "ipython3",
   "version": "3.11.8"
  }
 },
 "nbformat": 4,
 "nbformat_minor": 2
}
